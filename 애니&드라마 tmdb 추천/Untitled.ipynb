{
 "cells": [
  {
   "cell_type": "code",
   "execution_count": 1,
   "id": "f51370c8",
   "metadata": {},
   "outputs": [],
   "source": [
    "import pandas as pd\n",
    "import numpy as np\n",
    "import seaborn as sns\n",
    "from sklearn.feature_extraction.text import CountVectorizer\n",
    "from sklearn.metrics.pairwise import cosine_similarity\n",
    "from sklearn.decomposition import TruncatedSVD\n"
   ]
  },
  {
   "cell_type": "code",
   "execution_count": 2,
   "id": "5474949e",
   "metadata": {},
   "outputs": [],
   "source": [
    "def load_data(filename):\n",
    "    data = pd.read_csv(filename)\n",
    "    \n",
    "    # 평점 투표수 기준 상위 50%의 영화만 추출\n",
    "    m = data['rating_count'].quantile(0.8)\n",
    "    data = data.loc[data['rating_count'] >= m].copy()\n",
    "\n",
    "    # 가중평균 계산\n",
    "    C = data['rating_avg'].mean()\n",
    "    def weighted_rating(x, m=m, C=C):\n",
    "        v = x['rating_count']\n",
    "        R = x['rating_avg']\n",
    "        return (v/(v+m) * R) + (m/(m+v) * C)\n",
    "    data['score'] = data.apply(weighted_rating, axis=1)\n",
    "    \n",
    "    # CountVectorizer를 사용하여 장르별 유사도 계산\n",
    "    count_vector = CountVectorizer(ngram_range=(1, 3))\n",
    "    c_vector_genres = count_vector.fit_transform(data['genre'])\n",
    "    genre_c_sim = cosine_similarity(c_vector_genres, c_vector_genres).argsort()[:, ::-1]\n",
    "    \n",
    "    return data, genre_c_sim\n",
    "\n",
    "movie_data = load_data('movie\\movie_final.csv')\n",
    "\n"
   ]
  },
  {
   "cell_type": "code",
   "execution_count": 3,
   "id": "3af59f51",
   "metadata": {},
   "outputs": [],
   "source": [
    "def random_genres_items_movie(genre):\n",
    "    df = pd.read_csv(\"movie\\movie_final.csv\")\n",
    "    genre_df = df[df['genre'].apply(lambda x : genre in x)]\n",
    "    genre_df = genre_df.fillna('')\n",
    "\n",
    "    if len(genre_df) < 10:\n",
    "        result_items = genre_df.to_dict(\"records\")\n",
    "    else:\n",
    "        result_items = genre_df.sample(n=10).to_dict(\"records\")\n",
    "\n",
    "    return result_items\n",
    "\n",
    "result_items = random_genres_items_movie(\"Action\")\n",
    "result = pd.DataFrame(result_items)\n",
    "\n",
    "condition = ['tmdbId', 'title', 'poster_path','genre']\n",
    "\n",
    "rating_data = pd.read_csv(\"movie/ratings_final.csv\")\n",
    "movie_data = pd.read_csv(\"movie/movie_final.csv\")\n",
    "\n",
    "\n"
   ]
  },
  {
   "cell_type": "code",
   "execution_count": 4,
   "id": "037c0adf",
   "metadata": {},
   "outputs": [],
   "source": [
    "user_movie_data = pd.merge(rating_data, movie_data, on='content_id')\n",
    "\n",
    "user_movie_rating = user_movie_data.pivot_table('rating', index='userId', columns='title').fillna(0)\n",
    "\n",
    "movie_user_rating = user_movie_rating.values.T\n"
   ]
  },
  {
   "cell_type": "code",
   "execution_count": null,
   "id": "ba3ae391",
   "metadata": {},
   "outputs": [],
   "source": [
    "SVD = TruncatedSVD(n_components=12)\n",
    "matrix = SVD.fit_transform(movie_user_rating)\n",
    "\n",
    "corr = np.corrcoef(matrix)\n",
    "\n",
    "sns.heatmap(corr, cmap='coolwarm', annot=True, fmt='.2f')"
   ]
  },
  {
   "cell_type": "code",
   "execution_count": null,
   "id": "e2f56bb8",
   "metadata": {},
   "outputs": [],
   "source": []
  }
 ],
 "metadata": {
  "kernelspec": {
   "display_name": "Python 3 (ipykernel)",
   "language": "python",
   "name": "python3"
  },
  "language_info": {
   "codemirror_mode": {
    "name": "ipython",
    "version": 3
   },
   "file_extension": ".py",
   "mimetype": "text/x-python",
   "name": "python",
   "nbconvert_exporter": "python",
   "pygments_lexer": "ipython3",
   "version": "3.9.13"
  }
 },
 "nbformat": 4,
 "nbformat_minor": 5
}
